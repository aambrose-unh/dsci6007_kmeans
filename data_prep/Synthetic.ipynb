{
 "cells": [
  {
   "cell_type": "markdown",
   "metadata": {},
   "source": [
    "# Clean and Save Cleaned Data"
   ]
  },
  {
   "cell_type": "code",
   "execution_count": 1,
   "metadata": {},
   "outputs": [],
   "source": [
    "import pyspark\n",
    "from pyspark.sql.types import * "
   ]
  },
  {
   "cell_type": "code",
   "execution_count": 2,
   "metadata": {},
   "outputs": [],
   "source": [
    "# sc = spark.sparkContext\n",
    "spark = SparkSession(sc)"
   ]
  },
  {
   "cell_type": "code",
   "execution_count": 3,
   "metadata": {},
   "outputs": [],
   "source": [
    "filepath = \"s3a://final-kmeans/raw/sample_geo.txt\""
   ]
  },
  {
   "cell_type": "code",
   "execution_count": 8,
   "metadata": {},
   "outputs": [
    {
     "data": {
      "text/plain": [
       "DataFrame[Latitude: string, Longitude: string, LocationID: string]"
      ]
     },
     "execution_count": 8,
     "metadata": {},
     "output_type": "execute_result"
    }
   ],
   "source": [
    "# Create a dataframe and persist to prevent calling to the S3 bucket for every operation\n",
    "df_sg = spark.read.csv(filepath,sep='\\t',header=True)\n",
    "df_sg.persist()"
   ]
  },
  {
   "cell_type": "code",
   "execution_count": 9,
   "metadata": {},
   "outputs": [
    {
     "name": "stdout",
     "output_type": "stream",
     "text": [
      "+-----------+------------+----------+\n",
      "|   Latitude|   Longitude|LocationID|\n",
      "+-----------+------------+----------+\n",
      "|37.77253945|-77.49954987|         1|\n",
      "|42.09013298|-87.68915558|         2|\n",
      "|39.56341754|-75.58753204|         3|\n",
      "|39.45302347|-87.69374084|         4|\n",
      "| 38.9537989|-77.01656342|         5|\n",
      "+-----------+------------+----------+\n",
      "only showing top 5 rows\n",
      "\n"
     ]
    }
   ],
   "source": [
    "# View dataframe\n",
    "df_sg.show(5)"
   ]
  },
  {
   "cell_type": "code",
   "execution_count": 10,
   "metadata": {},
   "outputs": [
    {
     "data": {
      "text/plain": [
       "StructType(List(StructField(Latitude,StringType,true),StructField(Longitude,StringType,true),StructField(LocationID,StringType,true)))"
      ]
     },
     "execution_count": 10,
     "metadata": {},
     "output_type": "execute_result"
    }
   ],
   "source": [
    "# View dataframe schema to confirm proper datatypes\n",
    "df_sg.schema"
   ]
  },
  {
   "cell_type": "code",
   "execution_count": 11,
   "metadata": {},
   "outputs": [],
   "source": [
    "df_sg = df_sg.selectExpr('cast(Latitude as float) as latitude', 'cast(Longitude as float) as longitude',\n",
    "                          'cast(LocationID as integer) as location')"
   ]
  },
  {
   "cell_type": "code",
   "execution_count": 12,
   "metadata": {},
   "outputs": [
    {
     "name": "stdout",
     "output_type": "stream",
     "text": [
      "+---------+----------+--------+\n",
      "| latitude| longitude|location|\n",
      "+---------+----------+--------+\n",
      "| 37.77254| -77.49955|       1|\n",
      "|42.090134|-87.689156|       2|\n",
      "| 39.56342| -75.58753|       3|\n",
      "|39.453022| -87.69374|       4|\n",
      "|  38.9538| -77.01656|       5|\n",
      "+---------+----------+--------+\n",
      "only showing top 5 rows\n",
      "\n"
     ]
    }
   ],
   "source": [
    "df_sg.show(5)"
   ]
  },
  {
   "cell_type": "code",
   "execution_count": 14,
   "metadata": {},
   "outputs": [],
   "source": [
    "# Remove datapoints with likely false locations and count to verify items have been removed\n",
    "df_sg = df_sg.filter((df_sg.latitude != 0.0) & (df_sg.longitude != 0.0))"
   ]
  },
  {
   "cell_type": "code",
   "execution_count": 15,
   "metadata": {},
   "outputs": [],
   "source": [
    "# Save dataframe to S3 bucket as a csv file\n",
    "outpath = 's3a://final-kmeans/clean'\n",
    "# Do not write header?\n",
    "df_sg.write.csv(outpath+'/synthetic.csv')"
   ]
  }
 ],
 "metadata": {
  "kernelspec": {
   "display_name": "Python 3",
   "language": "python",
   "name": "python3"
  },
  "language_info": {
   "codemirror_mode": {
    "name": "ipython",
    "version": 3
   },
   "file_extension": ".py",
   "mimetype": "text/x-python",
   "name": "python",
   "nbconvert_exporter": "python",
   "pygments_lexer": "ipython3",
   "version": "3.6.9"
  }
 },
 "nbformat": 4,
 "nbformat_minor": 4
}
