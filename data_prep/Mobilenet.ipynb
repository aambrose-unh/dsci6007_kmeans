{
 "cells": [
  {
   "cell_type": "markdown",
   "metadata": {},
   "source": [
    "# Clean and Save Cleaned Data"
   ]
  },
  {
   "cell_type": "code",
   "execution_count": 1,
   "metadata": {},
   "outputs": [],
   "source": [
    "import pyspark\n",
    "from pyspark.sql.types import * "
   ]
  },
  {
   "cell_type": "code",
   "execution_count": 2,
   "metadata": {},
   "outputs": [],
   "source": [
    "# sc = spark.sparkContext\n",
    "spark = SparkSession(sc)"
   ]
  },
  {
   "cell_type": "code",
   "execution_count": 3,
   "metadata": {},
   "outputs": [],
   "source": [
    "# devicestatus.txt - upload raw data files to S3"
   ]
  },
  {
   "cell_type": "code",
   "execution_count": 4,
   "metadata": {},
   "outputs": [],
   "source": [
    "filepath = \"s3a://final-kmeans/raw/devicestatus.txt\""
   ]
  },
  {
   "cell_type": "code",
   "execution_count": 5,
   "metadata": {},
   "outputs": [],
   "source": [
    "# Load a text file and convert each line to a Row.\n",
    "lines = sc.textFile(filepath)\n",
    "lines.persist()\n",
    "\n",
    "# Split each line by the 19th character (delimiter can be \",\" or \"|\", but always in same location)\n",
    "parts = lines.map(lambda l: l.split(l[19]))\n",
    "\n",
    "# Clean up data, remove surrounding white spaces and incomplete entries\n",
    "devicestatus = parts.map(lambda p: [i.strip() for i in p])\n",
    "ds = devicestatus.filter(lambda x: len(x) == 14)"
   ]
  },
  {
   "cell_type": "code",
   "execution_count": 6,
   "metadata": {},
   "outputs": [
    {
     "data": {
      "text/plain": [
       "[[u'2014-03-15:10:10:20',\n",
       "  u'Sorrento F41L',\n",
       "  u'8cc3b47e-bd01-4482-b500-28f2342679af',\n",
       "  u'7',\n",
       "  u'24',\n",
       "  u'39',\n",
       "  u'enabled',\n",
       "  u'disabled',\n",
       "  u'connected',\n",
       "  u'55',\n",
       "  u'67',\n",
       "  u'12',\n",
       "  u'33.6894754264',\n",
       "  u'-117.543308253']]"
      ]
     },
     "execution_count": 6,
     "metadata": {},
     "output_type": "execute_result"
    }
   ],
   "source": [
    "# View an entry\n",
    "ds.take(1)"
   ]
  },
  {
   "cell_type": "code",
   "execution_count": 7,
   "metadata": {},
   "outputs": [
    {
     "data": {
      "text/plain": [
       "DataFrame[_1: string, _2: string, _3: string, _4: string, _5: string, _6: string, _7: string, _8: string, _9: string, _10: string, _11: string, _12: string, _13: string, _14: string]"
      ]
     },
     "execution_count": 7,
     "metadata": {},
     "output_type": "execute_result"
    }
   ],
   "source": [
    "# Create a dataframe and persist to prevent calling to the S3 bucket for every operation\n",
    "df = spark.createDataFrame(ds)\n",
    "df.persist()"
   ]
  },
  {
   "cell_type": "code",
   "execution_count": 8,
   "metadata": {},
   "outputs": [
    {
     "name": "stdout",
     "output_type": "stream",
     "text": [
      "+-------------------+-------------+--------------------+---+---+---+-------+--------+---------+---+---+---+-------------+--------------+\n",
      "|                 _1|           _2|                  _3| _4| _5| _6|     _7|      _8|       _9|_10|_11|_12|          _13|           _14|\n",
      "+-------------------+-------------+--------------------+---+---+---+-------+--------+---------+---+---+---+-------------+--------------+\n",
      "|2014-03-15:10:10:20|Sorrento F41L|8cc3b47e-bd01-448...|  7| 24| 39|enabled|disabled|connected| 55| 67| 12|33.6894754264|-117.543308253|\n",
      "+-------------------+-------------+--------------------+---+---+---+-------+--------+---------+---+---+---+-------------+--------------+\n",
      "only showing top 1 row\n",
      "\n"
     ]
    }
   ],
   "source": [
    "# View dataframe\n",
    "df.show(1)"
   ]
  },
  {
   "cell_type": "code",
   "execution_count": 9,
   "metadata": {},
   "outputs": [],
   "source": [
    "# Select relevant columns and impose appropriate names and datatypes\n",
    "from pyspark.sql.functions import col, to_timestamp\n",
    "\n",
    "device_df = df.selectExpr('cast(_13 as float) as latitude', 'cast(_14 as float) as longitude',\n",
    "                          '_1 as date', '_2 as device','_4 as model')\n",
    "\n",
    "device_df = device_df.withColumn('date',to_timestamp(col('date'), \"yyyy-MM-dd:HH:mm:ss\"))"
   ]
  },
  {
   "cell_type": "code",
   "execution_count": 10,
   "metadata": {},
   "outputs": [
    {
     "name": "stdout",
     "output_type": "stream",
     "text": [
      "+---------+-----------+-------------------+-------------+-----+\n",
      "| latitude|  longitude|               date|       device|model|\n",
      "+---------+-----------+-------------------+-------------+-----+\n",
      "|33.689476|-117.543304|2014-03-15 10:10:20|Sorrento F41L|    7|\n",
      "| 37.43211| -121.48503|2014-03-15 10:10:20|   MeeToo 1.0|    0|\n",
      "+---------+-----------+-------------------+-------------+-----+\n",
      "only showing top 2 rows\n",
      "\n"
     ]
    }
   ],
   "source": [
    "# View new dataframe\n",
    "device_df.show(2)"
   ]
  },
  {
   "cell_type": "code",
   "execution_count": 11,
   "metadata": {},
   "outputs": [
    {
     "data": {
      "text/plain": [
       "StructType(List(StructField(latitude,FloatType,true),StructField(longitude,FloatType,true),StructField(date,TimestampType,true),StructField(device,StringType,true),StructField(model,StringType,true)))"
      ]
     },
     "execution_count": 11,
     "metadata": {},
     "output_type": "execute_result"
    }
   ],
   "source": [
    "# View dataframe schema to confirm proper datatypes\n",
    "device_df.schema"
   ]
  },
  {
   "cell_type": "code",
   "execution_count": 12,
   "metadata": {},
   "outputs": [
    {
     "data": {
      "text/plain": [
       "100000"
      ]
     },
     "execution_count": 12,
     "metadata": {},
     "output_type": "execute_result"
    }
   ],
   "source": [
    "device_df.count()"
   ]
  },
  {
   "cell_type": "code",
   "execution_count": 13,
   "metadata": {},
   "outputs": [
    {
     "data": {
      "text/plain": [
       "94039"
      ]
     },
     "execution_count": 13,
     "metadata": {},
     "output_type": "execute_result"
    }
   ],
   "source": [
    "# Remove datapoints with likely false locations and count to verify items have been removed\n",
    "device_df = device_df.filter((device_df.latitude != 0.0) & (device_df.longitude != 0.0))\n",
    "device_df.count()"
   ]
  },
  {
   "cell_type": "code",
   "execution_count": 14,
   "metadata": {},
   "outputs": [],
   "source": [
    "import pyspark.sql.functions as f"
   ]
  },
  {
   "cell_type": "code",
   "execution_count": 15,
   "metadata": {},
   "outputs": [
    {
     "name": "stdout",
     "output_type": "stream",
     "text": [
      "+---------+-----------+-------------------+------------+----------+-----+\n",
      "| latitude|  longitude|               date|manufacturer|model_name|model|\n",
      "+---------+-----------+-------------------+------------+----------+-----+\n",
      "|33.689476|-117.543304|2014-03-15 10:10:20|    Sorrento|      F41L|    7|\n",
      "| 37.43211| -121.48503|2014-03-15 10:10:20|      MeeToo|       1.0|    0|\n",
      "+---------+-----------+-------------------+------------+----------+-----+\n",
      "only showing top 2 rows\n",
      "\n"
     ]
    }
   ],
   "source": [
    "# Split device column into separate manufacturer and model columns\n",
    "mfr = f.split(device_df.device, ' ').getItem(0).alias('manufacturer')\n",
    "model_name = f.split(device_df.device, ' ').getItem(1).alias('model_name')\n",
    "\n",
    "device_df = device_df.select('latitude','longitude', 'date', mfr, model_name, 'model')\n",
    "device_df.show(2)"
   ]
  },
  {
   "cell_type": "code",
   "execution_count": 17,
   "metadata": {},
   "outputs": [],
   "source": [
    "# Save dataframe to S3 bucket as a csv file\n",
    "outpath = 's3a://final-kmeans/clean'\n",
    "# Do not write header?\n",
    "device_df.coalesce(1).write.csv(outpath+'/mobilenet.csv')"
   ]
  },
  {
   "cell_type": "code",
   "execution_count": null,
   "metadata": {},
   "outputs": [],
   "source": []
  }
 ],
 "metadata": {
  "kernelspec": {
   "display_name": "Python 3",
   "language": "python",
   "name": "python3"
  },
  "language_info": {
   "codemirror_mode": {
    "name": "ipython",
    "version": 3
   },
   "file_extension": ".py",
   "mimetype": "text/x-python",
   "name": "python",
   "nbconvert_exporter": "python",
   "pygments_lexer": "ipython3",
   "version": "3.6.9"
  }
 },
 "nbformat": 4,
 "nbformat_minor": 4
}
