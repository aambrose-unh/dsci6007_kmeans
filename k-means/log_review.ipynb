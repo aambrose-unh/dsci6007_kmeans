{
 "cells": [
  {
   "cell_type": "code",
   "execution_count": 1,
   "metadata": {},
   "outputs": [],
   "source": [
    "import os\n",
    "import json"
   ]
  },
  {
   "cell_type": "code",
   "execution_count": 2,
   "metadata": {},
   "outputs": [],
   "source": [
    "filepath = r'C:\\Users\\aambr\\OneDrive\\Documents\\UNH Fall 2019\\Distributed_Scalable\\Final\\data\\logs'"
   ]
  },
  {
   "cell_type": "markdown",
   "metadata": {},
   "source": [
    "# Look at one log to get an understanding of the setup"
   ]
  },
  {
   "cell_type": "code",
   "execution_count": 3,
   "metadata": {},
   "outputs": [],
   "source": [
    "logs = dict()\n",
    "\n",
    "log_explore = os.listdir(filepath)[0]\n",
    "\n",
    "with open(os.path.join(filepath,log_explore)) as f:\n",
    "    events = []\n",
    "    for line in f:\n",
    "        events.append(json.loads(line))\n",
    "\n",
    "logs[log_explore] = {'events':events}"
   ]
  },
  {
   "cell_type": "code",
   "execution_count": 4,
   "metadata": {},
   "outputs": [
    {
     "name": "stdout",
     "output_type": "stream",
     "text": [
      "dict_keys(['Event', 'Spark Version'])\n",
      "dict_keys(['Event', 'Timestamp', 'Executor ID', 'Executor Info'])\n",
      "dict_keys(['Event', 'Block Manager ID', 'Maximum Memory', 'Timestamp', 'Maximum Onheap Memory', 'Maximum Offheap Memory'])\n",
      "dict_keys(['Event', 'JVM Information', 'Spark Properties', 'System Properties', 'Classpath Entries'])\n",
      "dict_keys(['Event', 'App Name', 'App ID', 'Timestamp', 'User'])\n",
      "dict_keys(['Event', 'Job ID', 'Submission Time', 'Stage Infos', 'Stage IDs', 'Properties'])\n",
      "dict_keys(['Event', 'Stage Info', 'Properties'])\n",
      "dict_keys(['Event', 'Stage ID', 'Stage Attempt ID', 'Task Info'])\n",
      "dict_keys(['Event', 'Stage ID', 'Stage Attempt ID', 'Task Info'])\n",
      "dict_keys(['Event', 'Stage ID', 'Stage Attempt ID', 'Task Type', 'Task End Reason', 'Task Info', 'Task Metrics'])\n",
      "dict_keys(['Event', 'Stage ID', 'Stage Attempt ID', 'Task Type', 'Task End Reason', 'Task Info', 'Task Metrics'])\n",
      "dict_keys(['Event', 'Stage Info'])\n",
      "dict_keys(['Event', 'Job ID', 'Completion Time', 'Job Result'])\n",
      "dict_keys(['Event', 'Job ID', 'Submission Time', 'Stage Infos', 'Stage IDs', 'Properties'])\n",
      "dict_keys(['Event', 'Stage Info', 'Properties'])\n",
      "dict_keys(['Event', 'Stage ID', 'Stage Attempt ID', 'Task Info'])\n",
      "dict_keys(['Event', 'Stage ID', 'Stage Attempt ID', 'Task Info'])\n",
      "dict_keys(['Event', 'Stage ID', 'Stage Attempt ID', 'Task Type', 'Task End Reason', 'Task Info', 'Task Metrics'])\n",
      "dict_keys(['Event', 'Stage ID', 'Stage Attempt ID', 'Task Type', 'Task End Reason', 'Task Info', 'Task Metrics'])\n",
      "dict_keys(['Event', 'Stage Info'])\n",
      "dict_keys(['Event', 'Job ID', 'Completion Time', 'Job Result'])\n",
      "dict_keys(['Event', 'Job ID', 'Submission Time', 'Stage Infos', 'Stage IDs', 'Properties'])\n",
      "dict_keys(['Event', 'Stage Info', 'Properties'])\n",
      "dict_keys(['Event', 'Stage ID', 'Stage Attempt ID', 'Task Info'])\n",
      "dict_keys(['Event', 'Stage ID', 'Stage Attempt ID', 'Task Info'])\n",
      "dict_keys(['Event', 'Stage ID', 'Stage Attempt ID', 'Task Type', 'Task End Reason', 'Task Info', 'Task Metrics'])\n",
      "dict_keys(['Event', 'Stage ID', 'Stage Attempt ID', 'Task Type', 'Task End Reason', 'Task Info', 'Task Metrics'])\n",
      "dict_keys(['Event', 'Stage Info'])\n",
      "dict_keys(['Event', 'Stage Info', 'Properties'])\n",
      "dict_keys(['Event', 'Stage ID', 'Stage Attempt ID', 'Task Info'])\n",
      "dict_keys(['Event', 'Stage ID', 'Stage Attempt ID', 'Task Info'])\n",
      "dict_keys(['Event', 'Stage ID', 'Stage Attempt ID', 'Task Type', 'Task End Reason', 'Task Info', 'Task Metrics'])\n",
      "dict_keys(['Event', 'Stage ID', 'Stage Attempt ID', 'Task Type', 'Task End Reason', 'Task Info', 'Task Metrics'])\n",
      "dict_keys(['Event', 'Stage Info'])\n",
      "dict_keys(['Event', 'Job ID', 'Completion Time', 'Job Result'])\n",
      "dict_keys(['Event', 'Job ID', 'Submission Time', 'Stage Infos', 'Stage IDs', 'Properties'])\n",
      "dict_keys(['Event', 'Stage Info', 'Properties'])\n",
      "dict_keys(['Event', 'Stage ID', 'Stage Attempt ID', 'Task Info'])\n",
      "dict_keys(['Event', 'Stage ID', 'Stage Attempt ID', 'Task Info'])\n",
      "dict_keys(['Event', 'Stage ID', 'Stage Attempt ID', 'Task Type', 'Task End Reason', 'Task Info', 'Task Metrics'])\n",
      "dict_keys(['Event', 'Stage ID', 'Stage Attempt ID', 'Task Type', 'Task End Reason', 'Task Info', 'Task Metrics'])\n",
      "dict_keys(['Event', 'Stage Info'])\n",
      "dict_keys(['Event', 'Stage Info', 'Properties'])\n",
      "dict_keys(['Event', 'Stage ID', 'Stage Attempt ID', 'Task Info'])\n",
      "dict_keys(['Event', 'Stage ID', 'Stage Attempt ID', 'Task Info'])\n",
      "dict_keys(['Event', 'Stage ID', 'Stage Attempt ID', 'Task Type', 'Task End Reason', 'Task Info', 'Task Metrics'])\n",
      "dict_keys(['Event', 'Stage ID', 'Stage Attempt ID', 'Task Type', 'Task End Reason', 'Task Info', 'Task Metrics'])\n",
      "dict_keys(['Event', 'Stage Info'])\n",
      "dict_keys(['Event', 'Job ID', 'Completion Time', 'Job Result'])\n",
      "dict_keys(['Event', 'Job ID', 'Submission Time', 'Stage Infos', 'Stage IDs', 'Properties'])\n",
      "dict_keys(['Event', 'Stage Info', 'Properties'])\n",
      "dict_keys(['Event', 'Stage ID', 'Stage Attempt ID', 'Task Info'])\n",
      "dict_keys(['Event', 'Stage ID', 'Stage Attempt ID', 'Task Info'])\n",
      "dict_keys(['Event', 'Stage ID', 'Stage Attempt ID', 'Task Type', 'Task End Reason', 'Task Info', 'Task Metrics'])\n",
      "dict_keys(['Event', 'Stage ID', 'Stage Attempt ID', 'Task Type', 'Task End Reason', 'Task Info', 'Task Metrics'])\n",
      "dict_keys(['Event', 'Stage Info'])\n",
      "dict_keys(['Event', 'Stage Info', 'Properties'])\n",
      "dict_keys(['Event', 'Stage ID', 'Stage Attempt ID', 'Task Info'])\n",
      "dict_keys(['Event', 'Stage ID', 'Stage Attempt ID', 'Task Info'])\n",
      "dict_keys(['Event', 'Stage ID', 'Stage Attempt ID', 'Task Type', 'Task End Reason', 'Task Info', 'Task Metrics'])\n",
      "dict_keys(['Event', 'Stage ID', 'Stage Attempt ID', 'Task Type', 'Task End Reason', 'Task Info', 'Task Metrics'])\n",
      "dict_keys(['Event', 'Stage Info'])\n",
      "dict_keys(['Event', 'Job ID', 'Completion Time', 'Job Result'])\n",
      "dict_keys(['Event', 'Job ID', 'Submission Time', 'Stage Infos', 'Stage IDs', 'Properties'])\n",
      "dict_keys(['Event', 'Stage Info', 'Properties'])\n",
      "dict_keys(['Event', 'Stage ID', 'Stage Attempt ID', 'Task Info'])\n",
      "dict_keys(['Event', 'Stage ID', 'Stage Attempt ID', 'Task Info'])\n",
      "dict_keys(['Event', 'Stage ID', 'Stage Attempt ID', 'Task Type', 'Task End Reason', 'Task Info', 'Task Metrics'])\n",
      "dict_keys(['Event', 'Stage ID', 'Stage Attempt ID', 'Task Type', 'Task End Reason', 'Task Info', 'Task Metrics'])\n",
      "dict_keys(['Event', 'Stage Info'])\n",
      "dict_keys(['Event', 'Stage Info', 'Properties'])\n",
      "dict_keys(['Event', 'Stage ID', 'Stage Attempt ID', 'Task Info'])\n",
      "dict_keys(['Event', 'Stage ID', 'Stage Attempt ID', 'Task Info'])\n",
      "dict_keys(['Event', 'Stage ID', 'Stage Attempt ID', 'Task Type', 'Task End Reason', 'Task Info', 'Task Metrics'])\n",
      "dict_keys(['Event', 'Stage ID', 'Stage Attempt ID', 'Task Type', 'Task End Reason', 'Task Info', 'Task Metrics'])\n",
      "dict_keys(['Event', 'Stage Info'])\n",
      "dict_keys(['Event', 'Job ID', 'Completion Time', 'Job Result'])\n",
      "dict_keys(['Event', 'Job ID', 'Submission Time', 'Stage Infos', 'Stage IDs', 'Properties'])\n",
      "dict_keys(['Event', 'Stage Info', 'Properties'])\n",
      "dict_keys(['Event', 'Stage ID', 'Stage Attempt ID', 'Task Info'])\n",
      "dict_keys(['Event', 'Stage ID', 'Stage Attempt ID', 'Task Info'])\n",
      "dict_keys(['Event', 'Stage ID', 'Stage Attempt ID', 'Task Type', 'Task End Reason', 'Task Info', 'Task Metrics'])\n",
      "dict_keys(['Event', 'Stage ID', 'Stage Attempt ID', 'Task Type', 'Task End Reason', 'Task Info', 'Task Metrics'])\n",
      "dict_keys(['Event', 'Stage Info'])\n",
      "dict_keys(['Event', 'Stage Info', 'Properties'])\n",
      "dict_keys(['Event', 'Stage ID', 'Stage Attempt ID', 'Task Info'])\n",
      "dict_keys(['Event', 'Stage ID', 'Stage Attempt ID', 'Task Info'])\n",
      "dict_keys(['Event', 'Stage ID', 'Stage Attempt ID', 'Task Type', 'Task End Reason', 'Task Info', 'Task Metrics'])\n",
      "dict_keys(['Event', 'Stage ID', 'Stage Attempt ID', 'Task Type', 'Task End Reason', 'Task Info', 'Task Metrics'])\n",
      "dict_keys(['Event', 'Stage Info'])\n",
      "dict_keys(['Event', 'Job ID', 'Completion Time', 'Job Result'])\n",
      "dict_keys(['Event', 'Job ID', 'Submission Time', 'Stage Infos', 'Stage IDs', 'Properties'])\n",
      "dict_keys(['Event', 'Stage Info', 'Properties'])\n",
      "dict_keys(['Event', 'Stage ID', 'Stage Attempt ID', 'Task Info'])\n",
      "dict_keys(['Event', 'Stage ID', 'Stage Attempt ID', 'Task Info'])\n",
      "dict_keys(['Event', 'Stage ID', 'Stage Attempt ID', 'Task Type', 'Task End Reason', 'Task Info', 'Task Metrics'])\n",
      "dict_keys(['Event', 'Stage ID', 'Stage Attempt ID', 'Task Type', 'Task End Reason', 'Task Info', 'Task Metrics'])\n",
      "dict_keys(['Event', 'Stage Info'])\n",
      "dict_keys(['Event', 'Stage Info', 'Properties'])\n",
      "dict_keys(['Event', 'Stage ID', 'Stage Attempt ID', 'Task Info'])\n",
      "dict_keys(['Event', 'Stage ID', 'Stage Attempt ID', 'Task Info'])\n",
      "dict_keys(['Event', 'Stage ID', 'Stage Attempt ID', 'Task Type', 'Task End Reason', 'Task Info', 'Task Metrics'])\n",
      "dict_keys(['Event', 'Stage ID', 'Stage Attempt ID', 'Task Type', 'Task End Reason', 'Task Info', 'Task Metrics'])\n",
      "dict_keys(['Event', 'Stage Info'])\n",
      "dict_keys(['Event', 'Job ID', 'Completion Time', 'Job Result'])\n",
      "dict_keys(['Event', 'Job ID', 'Submission Time', 'Stage Infos', 'Stage IDs', 'Properties'])\n",
      "dict_keys(['Event', 'Stage Info', 'Properties'])\n",
      "dict_keys(['Event', 'Stage ID', 'Stage Attempt ID', 'Task Info'])\n",
      "dict_keys(['Event', 'Stage ID', 'Stage Attempt ID', 'Task Type', 'Task End Reason', 'Task Info', 'Task Metrics'])\n",
      "dict_keys(['Event', 'Stage Info'])\n",
      "dict_keys(['Event', 'Job ID', 'Completion Time', 'Job Result'])\n",
      "dict_keys(['Event', 'executionId', 'description', 'details', 'physicalPlanDescription', 'sparkPlanInfo', 'time'])\n",
      "dict_keys(['Event', 'executionId', 'effectiveSQLConf'])\n",
      "dict_keys(['Event', 'executionId', 'timePerRule', 'numRunsPerRule', 'numEffectiveRunsPerRule', 'timeEffectiveRunsPerRule'])\n",
      "dict_keys(['Event', 'Job ID', 'Submission Time', 'Stage Infos', 'Stage IDs', 'Properties'])\n",
      "dict_keys(['Event', 'Stage Info', 'Properties'])\n",
      "dict_keys(['Event', 'Stage ID', 'Stage Attempt ID', 'Task Info'])\n",
      "dict_keys(['Event', 'Stage ID', 'Stage Attempt ID', 'Task Type', 'Task End Reason', 'Task Info', 'Task Metrics'])\n",
      "dict_keys(['Event', 'Stage Info'])\n",
      "dict_keys(['Event', 'Job ID', 'Completion Time', 'Job Result'])\n",
      "dict_keys(['Event', 'executionId', 'accumUpdates'])\n",
      "dict_keys(['Event', 'executionId', 'time'])\n",
      "dict_keys(['Event', 'Timestamp'])\n"
     ]
    }
   ],
   "source": [
    "for i in logs[log_explore]['events']:\n",
    "    print(i.keys())"
   ]
  },
  {
   "cell_type": "code",
   "execution_count": 5,
   "metadata": {},
   "outputs": [
    {
     "name": "stdout",
     "output_type": "stream",
     "text": [
      "SparkListenerLogStart\n",
      "SparkListenerExecutorAdded\n",
      "SparkListenerBlockManagerAdded\n",
      "SparkListenerEnvironmentUpdate\n",
      "SparkListenerApplicationStart\n",
      "SparkListenerJobStart\n",
      "SparkListenerStageSubmitted\n",
      "SparkListenerTaskStart\n",
      "SparkListenerTaskStart\n",
      "SparkListenerTaskEnd\n",
      "SparkListenerTaskEnd\n",
      "SparkListenerStageCompleted\n",
      "SparkListenerJobEnd\n",
      "SparkListenerJobStart\n",
      "SparkListenerStageSubmitted\n",
      "SparkListenerTaskStart\n",
      "SparkListenerTaskStart\n",
      "SparkListenerTaskEnd\n",
      "SparkListenerTaskEnd\n",
      "SparkListenerStageCompleted\n",
      "SparkListenerJobEnd\n",
      "SparkListenerJobStart\n",
      "SparkListenerStageSubmitted\n",
      "SparkListenerTaskStart\n",
      "SparkListenerTaskStart\n",
      "SparkListenerTaskEnd\n",
      "SparkListenerTaskEnd\n",
      "SparkListenerStageCompleted\n",
      "SparkListenerStageSubmitted\n",
      "SparkListenerTaskStart\n",
      "SparkListenerTaskStart\n",
      "SparkListenerTaskEnd\n",
      "SparkListenerTaskEnd\n",
      "SparkListenerStageCompleted\n",
      "SparkListenerJobEnd\n",
      "SparkListenerJobStart\n",
      "SparkListenerStageSubmitted\n",
      "SparkListenerTaskStart\n",
      "SparkListenerTaskStart\n",
      "SparkListenerTaskEnd\n",
      "SparkListenerTaskEnd\n",
      "SparkListenerStageCompleted\n",
      "SparkListenerStageSubmitted\n",
      "SparkListenerTaskStart\n",
      "SparkListenerTaskStart\n",
      "SparkListenerTaskEnd\n",
      "SparkListenerTaskEnd\n",
      "SparkListenerStageCompleted\n",
      "SparkListenerJobEnd\n",
      "SparkListenerJobStart\n",
      "SparkListenerStageSubmitted\n",
      "SparkListenerTaskStart\n",
      "SparkListenerTaskStart\n",
      "SparkListenerTaskEnd\n",
      "SparkListenerTaskEnd\n",
      "SparkListenerStageCompleted\n",
      "SparkListenerStageSubmitted\n",
      "SparkListenerTaskStart\n",
      "SparkListenerTaskStart\n",
      "SparkListenerTaskEnd\n",
      "SparkListenerTaskEnd\n",
      "SparkListenerStageCompleted\n",
      "SparkListenerJobEnd\n",
      "SparkListenerJobStart\n",
      "SparkListenerStageSubmitted\n",
      "SparkListenerTaskStart\n",
      "SparkListenerTaskStart\n",
      "SparkListenerTaskEnd\n",
      "SparkListenerTaskEnd\n",
      "SparkListenerStageCompleted\n",
      "SparkListenerStageSubmitted\n",
      "SparkListenerTaskStart\n",
      "SparkListenerTaskStart\n",
      "SparkListenerTaskEnd\n",
      "SparkListenerTaskEnd\n",
      "SparkListenerStageCompleted\n",
      "SparkListenerJobEnd\n",
      "SparkListenerJobStart\n",
      "SparkListenerStageSubmitted\n",
      "SparkListenerTaskStart\n",
      "SparkListenerTaskStart\n",
      "SparkListenerTaskEnd\n",
      "SparkListenerTaskEnd\n",
      "SparkListenerStageCompleted\n",
      "SparkListenerStageSubmitted\n",
      "SparkListenerTaskStart\n",
      "SparkListenerTaskStart\n",
      "SparkListenerTaskEnd\n",
      "SparkListenerTaskEnd\n",
      "SparkListenerStageCompleted\n",
      "SparkListenerJobEnd\n",
      "SparkListenerJobStart\n",
      "SparkListenerStageSubmitted\n",
      "SparkListenerTaskStart\n",
      "SparkListenerTaskStart\n",
      "SparkListenerTaskEnd\n",
      "SparkListenerTaskEnd\n",
      "SparkListenerStageCompleted\n",
      "SparkListenerStageSubmitted\n",
      "SparkListenerTaskStart\n",
      "SparkListenerTaskStart\n",
      "SparkListenerTaskEnd\n",
      "SparkListenerTaskEnd\n",
      "SparkListenerStageCompleted\n",
      "SparkListenerJobEnd\n",
      "SparkListenerJobStart\n",
      "SparkListenerStageSubmitted\n",
      "SparkListenerTaskStart\n",
      "SparkListenerTaskEnd\n",
      "SparkListenerStageCompleted\n",
      "SparkListenerJobEnd\n",
      "org.apache.spark.sql.execution.ui.SparkListenerSQLExecutionStart\n",
      "org.apache.spark.sql.execution.ui.SparkListenerEffectiveSQLConf\n",
      "org.apache.spark.sql.execution.ui.SparkListenerQueryExecutionMetrics\n",
      "SparkListenerJobStart\n",
      "SparkListenerStageSubmitted\n",
      "SparkListenerTaskStart\n",
      "SparkListenerTaskEnd\n",
      "SparkListenerStageCompleted\n",
      "SparkListenerJobEnd\n",
      "org.apache.spark.sql.execution.ui.SparkListenerDriverAccumUpdates\n",
      "org.apache.spark.sql.execution.ui.SparkListenerSQLExecutionEnd\n",
      "SparkListenerApplicationEnd\n"
     ]
    }
   ],
   "source": [
    "for i in logs[log_explore]['events']:\n",
    "    print(i['Event'])"
   ]
  },
  {
   "cell_type": "code",
   "execution_count": 6,
   "metadata": {},
   "outputs": [],
   "source": [
    "# Look for app info such as k=? and dist function\n",
    "for i in logs[log_explore]['events']:\n",
    "    if i['Event'] == 'SparkListenerApplicationStart':\n",
    "        app_start = i['Timestamp']\n",
    "    if i['Event'] == 'SparkListenerApplicationEnd':\n",
    "        app_stop = i['Timestamp']\n",
    "    if 'System Properties' in i.keys():\n",
    "        if ('nonpersistent' in i['System Properties']['sun.java.command']):\n",
    "            pers = False\n",
    "        else:\n",
    "            pers = True\n",
    "        info = i['System Properties']['sun.java.command'].strip().split(' ')\n",
    "    \n",
    "logs[log_explore]['appinfo'] = {'runtime':(app_stop-app_start)/1000,\n",
    "                                'k':info[-2],\n",
    "                                'dist_func':info[-3],\n",
    "                                'persistent':pers}"
   ]
  },
  {
   "cell_type": "code",
   "execution_count": 7,
   "metadata": {},
   "outputs": [
    {
     "data": {
      "text/plain": [
       "{'runtime': 18.965, 'k': '5', 'dist_func': 'euclid', 'persistent': False}"
      ]
     },
     "execution_count": 7,
     "metadata": {},
     "output_type": "execute_result"
    }
   ],
   "source": [
    "logs[log_explore]['appinfo']"
   ]
  },
  {
   "cell_type": "code",
   "execution_count": null,
   "metadata": {},
   "outputs": [],
   "source": []
  },
  {
   "cell_type": "markdown",
   "metadata": {},
   "source": [
    "# Apply To All Logs"
   ]
  },
  {
   "cell_type": "code",
   "execution_count": 8,
   "metadata": {},
   "outputs": [],
   "source": [
    "logs = dict()\n",
    "\n",
    "log_list = os.listdir(filepath)\n",
    "\n",
    "for log in log_list:\n",
    "    with open(os.path.join(filepath,log)) as f:\n",
    "        events = []\n",
    "        for line in f:\n",
    "            events.append(json.loads(line))\n",
    "\n",
    "    logs[log] = {'events':events}"
   ]
  },
  {
   "cell_type": "code",
   "execution_count": 9,
   "metadata": {},
   "outputs": [],
   "source": [
    "# Get the relevant app info from each log\n",
    "for log in log_list:\n",
    "    for i in logs[log]['events']:\n",
    "        if i['Event'] == 'SparkListenerApplicationStart':\n",
    "            app_start = i['Timestamp']\n",
    "        if i['Event'] == 'SparkListenerApplicationEnd':\n",
    "            app_stop = i['Timestamp']\n",
    "        if 'System Properties' in i.keys():\n",
    "            if ('nonpersistent' in i['System Properties']['sun.java.command']):\n",
    "                pers = False\n",
    "            else:\n",
    "                pers = True\n",
    "            info = i['System Properties']['sun.java.command'].strip().split(' ')\n",
    "            dataset = info[-5].split('/')[-1][:-4]\n",
    "\n",
    "    logs[log]['appinfo'] = {'log': log,\n",
    "                            'dataset':dataset,\n",
    "                            'runtime':(app_stop-app_start)/1000,\n",
    "                            'k':info[-2],\n",
    "                            'dist_func':info[-3],\n",
    "                            'persistent':pers\n",
    "                           }"
   ]
  },
  {
   "cell_type": "code",
   "execution_count": 10,
   "metadata": {},
   "outputs": [],
   "source": [
    "import pandas as pd"
   ]
  },
  {
   "cell_type": "code",
   "execution_count": 11,
   "metadata": {},
   "outputs": [],
   "source": [
    "app_info_dict = {'log':[],'dataset': [], 'runtime': [], 'k': [], 'dist_func': [], 'persistent': []}\n",
    "for log in log_list:\n",
    "    for feature in logs[log]['appinfo'].keys():\n",
    "        app_info_dict[feature].append(logs[log]['appinfo'][feature])"
   ]
  },
  {
   "cell_type": "code",
   "execution_count": 12,
   "metadata": {},
   "outputs": [],
   "source": [
    "# app_info_dict"
   ]
  },
  {
   "cell_type": "code",
   "execution_count": 13,
   "metadata": {},
   "outputs": [],
   "source": [
    "df = pd.DataFrame(app_info_dict)"
   ]
  },
  {
   "cell_type": "code",
   "execution_count": 14,
   "metadata": {},
   "outputs": [
    {
     "data": {
      "text/html": [
       "<div>\n",
       "<style scoped>\n",
       "    .dataframe tbody tr th:only-of-type {\n",
       "        vertical-align: middle;\n",
       "    }\n",
       "\n",
       "    .dataframe tbody tr th {\n",
       "        vertical-align: top;\n",
       "    }\n",
       "\n",
       "    .dataframe thead th {\n",
       "        text-align: right;\n",
       "    }\n",
       "</style>\n",
       "<table border=\"1\" class=\"dataframe\">\n",
       "  <thead>\n",
       "    <tr style=\"text-align: right;\">\n",
       "      <th></th>\n",
       "      <th>log</th>\n",
       "      <th>dataset</th>\n",
       "      <th>runtime</th>\n",
       "      <th>k</th>\n",
       "      <th>dist_func</th>\n",
       "      <th>persistent</th>\n",
       "    </tr>\n",
       "  </thead>\n",
       "  <tbody>\n",
       "    <tr>\n",
       "      <th>0</th>\n",
       "      <td>local-1588874985623</td>\n",
       "      <td>mobilenet</td>\n",
       "      <td>18.965</td>\n",
       "      <td>5</td>\n",
       "      <td>euclid</td>\n",
       "      <td>False</td>\n",
       "    </tr>\n",
       "    <tr>\n",
       "      <th>3</th>\n",
       "      <td>local-1588876143825</td>\n",
       "      <td>mobilenet</td>\n",
       "      <td>18.878</td>\n",
       "      <td>5</td>\n",
       "      <td>circle</td>\n",
       "      <td>False</td>\n",
       "    </tr>\n",
       "    <tr>\n",
       "      <th>10</th>\n",
       "      <td>local-1588877112168</td>\n",
       "      <td>mobilenet</td>\n",
       "      <td>19.026</td>\n",
       "      <td>5</td>\n",
       "      <td>circle</td>\n",
       "      <td>True</td>\n",
       "    </tr>\n",
       "    <tr>\n",
       "      <th>11</th>\n",
       "      <td>local-1588877134113</td>\n",
       "      <td>mobilenet</td>\n",
       "      <td>11.683</td>\n",
       "      <td>5</td>\n",
       "      <td>euclid</td>\n",
       "      <td>True</td>\n",
       "    </tr>\n",
       "  </tbody>\n",
       "</table>\n",
       "</div>"
      ],
      "text/plain": [
       "                    log    dataset  runtime  k dist_func  persistent\n",
       "0   local-1588874985623  mobilenet   18.965  5    euclid       False\n",
       "3   local-1588876143825  mobilenet   18.878  5    circle       False\n",
       "10  local-1588877112168  mobilenet   19.026  5    circle        True\n",
       "11  local-1588877134113  mobilenet   11.683  5    euclid        True"
      ]
     },
     "execution_count": 14,
     "metadata": {},
     "output_type": "execute_result"
    }
   ],
   "source": [
    "df[df['dataset'] == 'mobilenet']"
   ]
  },
  {
   "cell_type": "code",
   "execution_count": 15,
   "metadata": {},
   "outputs": [
    {
     "data": {
      "text/html": [
       "<div>\n",
       "<style scoped>\n",
       "    .dataframe tbody tr th:only-of-type {\n",
       "        vertical-align: middle;\n",
       "    }\n",
       "\n",
       "    .dataframe tbody tr th {\n",
       "        vertical-align: top;\n",
       "    }\n",
       "\n",
       "    .dataframe thead th {\n",
       "        text-align: right;\n",
       "    }\n",
       "</style>\n",
       "<table border=\"1\" class=\"dataframe\">\n",
       "  <thead>\n",
       "    <tr style=\"text-align: right;\">\n",
       "      <th></th>\n",
       "      <th>log</th>\n",
       "      <th>dataset</th>\n",
       "      <th>runtime</th>\n",
       "      <th>k</th>\n",
       "      <th>dist_func</th>\n",
       "      <th>persistent</th>\n",
       "    </tr>\n",
       "  </thead>\n",
       "  <tbody>\n",
       "    <tr>\n",
       "      <th>6</th>\n",
       "      <td>local-1588876243975</td>\n",
       "      <td>dbpedia</td>\n",
       "      <td>434.347</td>\n",
       "      <td>6</td>\n",
       "      <td>circle</td>\n",
       "      <td>False</td>\n",
       "    </tr>\n",
       "    <tr>\n",
       "      <th>7</th>\n",
       "      <td>local-1588876682179</td>\n",
       "      <td>dbpedia</td>\n",
       "      <td>139.381</td>\n",
       "      <td>6</td>\n",
       "      <td>euclid</td>\n",
       "      <td>False</td>\n",
       "    </tr>\n",
       "    <tr>\n",
       "      <th>16</th>\n",
       "      <td>local-1588877208262</td>\n",
       "      <td>dbpedia</td>\n",
       "      <td>114.309</td>\n",
       "      <td>6</td>\n",
       "      <td>circle</td>\n",
       "      <td>True</td>\n",
       "    </tr>\n",
       "    <tr>\n",
       "      <th>17</th>\n",
       "      <td>local-1588877325903</td>\n",
       "      <td>dbpedia</td>\n",
       "      <td>38.190</td>\n",
       "      <td>6</td>\n",
       "      <td>euclid</td>\n",
       "      <td>True</td>\n",
       "    </tr>\n",
       "  </tbody>\n",
       "</table>\n",
       "</div>"
      ],
      "text/plain": [
       "                    log  dataset  runtime  k dist_func  persistent\n",
       "6   local-1588876243975  dbpedia  434.347  6    circle       False\n",
       "7   local-1588876682179  dbpedia  139.381  6    euclid       False\n",
       "16  local-1588877208262  dbpedia  114.309  6    circle        True\n",
       "17  local-1588877325903  dbpedia   38.190  6    euclid        True"
      ]
     },
     "execution_count": 15,
     "metadata": {},
     "output_type": "execute_result"
    }
   ],
   "source": [
    "df[df['dataset'] == 'dbpedia']"
   ]
  },
  {
   "cell_type": "code",
   "execution_count": 16,
   "metadata": {},
   "outputs": [
    {
     "data": {
      "text/html": [
       "<div>\n",
       "<style scoped>\n",
       "    .dataframe tbody tr th:only-of-type {\n",
       "        vertical-align: middle;\n",
       "    }\n",
       "\n",
       "    .dataframe tbody tr th {\n",
       "        vertical-align: top;\n",
       "    }\n",
       "\n",
       "    .dataframe thead th {\n",
       "        text-align: right;\n",
       "    }\n",
       "</style>\n",
       "<table border=\"1\" class=\"dataframe\">\n",
       "  <thead>\n",
       "    <tr style=\"text-align: right;\">\n",
       "      <th></th>\n",
       "      <th>log</th>\n",
       "      <th>dataset</th>\n",
       "      <th>runtime</th>\n",
       "      <th>k</th>\n",
       "      <th>dist_func</th>\n",
       "      <th>persistent</th>\n",
       "    </tr>\n",
       "  </thead>\n",
       "  <tbody>\n",
       "    <tr>\n",
       "      <th>8</th>\n",
       "      <td>local-1588876824644</td>\n",
       "      <td>dbpedia_sample</td>\n",
       "      <td>52.355</td>\n",
       "      <td>6</td>\n",
       "      <td>circle</td>\n",
       "      <td>False</td>\n",
       "    </tr>\n",
       "    <tr>\n",
       "      <th>9</th>\n",
       "      <td>local-1588876879536</td>\n",
       "      <td>dbpedia_sample</td>\n",
       "      <td>64.481</td>\n",
       "      <td>6</td>\n",
       "      <td>euclid</td>\n",
       "      <td>False</td>\n",
       "    </tr>\n",
       "    <tr>\n",
       "      <th>18</th>\n",
       "      <td>local-1588877366726</td>\n",
       "      <td>dbpedia_sample</td>\n",
       "      <td>122.390</td>\n",
       "      <td>6</td>\n",
       "      <td>circle</td>\n",
       "      <td>True</td>\n",
       "    </tr>\n",
       "    <tr>\n",
       "      <th>19</th>\n",
       "      <td>local-1588877492198</td>\n",
       "      <td>dbpedia_sample</td>\n",
       "      <td>16.783</td>\n",
       "      <td>6</td>\n",
       "      <td>euclid</td>\n",
       "      <td>True</td>\n",
       "    </tr>\n",
       "  </tbody>\n",
       "</table>\n",
       "</div>"
      ],
      "text/plain": [
       "                    log         dataset  runtime  k dist_func  persistent\n",
       "8   local-1588876824644  dbpedia_sample   52.355  6    circle       False\n",
       "9   local-1588876879536  dbpedia_sample   64.481  6    euclid       False\n",
       "18  local-1588877366726  dbpedia_sample  122.390  6    circle        True\n",
       "19  local-1588877492198  dbpedia_sample   16.783  6    euclid        True"
      ]
     },
     "execution_count": 16,
     "metadata": {},
     "output_type": "execute_result"
    }
   ],
   "source": [
    "df[df['dataset'] == 'dbpedia_sample']"
   ]
  },
  {
   "cell_type": "code",
   "execution_count": 17,
   "metadata": {},
   "outputs": [
    {
     "data": {
      "text/html": [
       "<div>\n",
       "<style scoped>\n",
       "    .dataframe tbody tr th:only-of-type {\n",
       "        vertical-align: middle;\n",
       "    }\n",
       "\n",
       "    .dataframe tbody tr th {\n",
       "        vertical-align: top;\n",
       "    }\n",
       "\n",
       "    .dataframe thead th {\n",
       "        text-align: right;\n",
       "    }\n",
       "</style>\n",
       "<table border=\"1\" class=\"dataframe\">\n",
       "  <thead>\n",
       "    <tr style=\"text-align: right;\">\n",
       "      <th></th>\n",
       "      <th>log</th>\n",
       "      <th>dataset</th>\n",
       "      <th>runtime</th>\n",
       "      <th>k</th>\n",
       "      <th>dist_func</th>\n",
       "      <th>persistent</th>\n",
       "    </tr>\n",
       "  </thead>\n",
       "  <tbody>\n",
       "    <tr>\n",
       "      <th>1</th>\n",
       "      <td>local-1588875335336</td>\n",
       "      <td>synthetic</td>\n",
       "      <td>15.710</td>\n",
       "      <td>2</td>\n",
       "      <td>circle</td>\n",
       "      <td>False</td>\n",
       "    </tr>\n",
       "    <tr>\n",
       "      <th>2</th>\n",
       "      <td>local-1588875354139</td>\n",
       "      <td>synthetic</td>\n",
       "      <td>15.655</td>\n",
       "      <td>2</td>\n",
       "      <td>euclid</td>\n",
       "      <td>False</td>\n",
       "    </tr>\n",
       "    <tr>\n",
       "      <th>4</th>\n",
       "      <td>local-1588876211383</td>\n",
       "      <td>synthetic</td>\n",
       "      <td>13.359</td>\n",
       "      <td>4</td>\n",
       "      <td>circle</td>\n",
       "      <td>False</td>\n",
       "    </tr>\n",
       "    <tr>\n",
       "      <th>5</th>\n",
       "      <td>local-1588876227623</td>\n",
       "      <td>synthetic</td>\n",
       "      <td>13.193</td>\n",
       "      <td>4</td>\n",
       "      <td>euclid</td>\n",
       "      <td>False</td>\n",
       "    </tr>\n",
       "    <tr>\n",
       "      <th>12</th>\n",
       "      <td>local-1588877149349</td>\n",
       "      <td>synthetic</td>\n",
       "      <td>9.182</td>\n",
       "      <td>2</td>\n",
       "      <td>circle</td>\n",
       "      <td>True</td>\n",
       "    </tr>\n",
       "    <tr>\n",
       "      <th>13</th>\n",
       "      <td>local-1588877161652</td>\n",
       "      <td>synthetic</td>\n",
       "      <td>12.054</td>\n",
       "      <td>2</td>\n",
       "      <td>euclid</td>\n",
       "      <td>True</td>\n",
       "    </tr>\n",
       "    <tr>\n",
       "      <th>14</th>\n",
       "      <td>local-1588877176699</td>\n",
       "      <td>synthetic</td>\n",
       "      <td>14.954</td>\n",
       "      <td>4</td>\n",
       "      <td>circle</td>\n",
       "      <td>True</td>\n",
       "    </tr>\n",
       "    <tr>\n",
       "      <th>15</th>\n",
       "      <td>local-1588877194664</td>\n",
       "      <td>synthetic</td>\n",
       "      <td>10.699</td>\n",
       "      <td>4</td>\n",
       "      <td>euclid</td>\n",
       "      <td>True</td>\n",
       "    </tr>\n",
       "  </tbody>\n",
       "</table>\n",
       "</div>"
      ],
      "text/plain": [
       "                    log    dataset  runtime  k dist_func  persistent\n",
       "1   local-1588875335336  synthetic   15.710  2    circle       False\n",
       "2   local-1588875354139  synthetic   15.655  2    euclid       False\n",
       "4   local-1588876211383  synthetic   13.359  4    circle       False\n",
       "5   local-1588876227623  synthetic   13.193  4    euclid       False\n",
       "12  local-1588877149349  synthetic    9.182  2    circle        True\n",
       "13  local-1588877161652  synthetic   12.054  2    euclid        True\n",
       "14  local-1588877176699  synthetic   14.954  4    circle        True\n",
       "15  local-1588877194664  synthetic   10.699  4    euclid        True"
      ]
     },
     "execution_count": 17,
     "metadata": {},
     "output_type": "execute_result"
    }
   ],
   "source": [
    "df[df['dataset'] == 'synthetic']"
   ]
  },
  {
   "cell_type": "code",
   "execution_count": 18,
   "metadata": {},
   "outputs": [],
   "source": [
    "pers_df = pd.DataFrame(df.groupby('persistent')['runtime'].mean())"
   ]
  },
  {
   "cell_type": "code",
   "execution_count": 19,
   "metadata": {},
   "outputs": [],
   "source": [
    "import matplotlib.pyplot as plt\n",
    "import numpy as np"
   ]
  },
  {
   "cell_type": "code",
   "execution_count": 20,
   "metadata": {},
   "outputs": [
    {
     "data": {
      "text/plain": [
       "Text(0.5, 1.0, 'RDD Cache Status vs Runtime')"
      ]
     },
     "execution_count": 20,
     "metadata": {},
     "output_type": "execute_result"
    },
    {
     "data": {
      "image/png": "[encoded data removed]",
      "text/plain": [
       "<Figure size 432x288 with 1 Axes>"
      ]
     },
     "metadata": {
      "needs_background": "light"
     },
     "output_type": "display_data"
    }
   ],
   "source": [
    "fig, ax = plt.subplots()\n",
    "ax.bar([str(i) for i in pers_df.index.values],pers_df.values[:,0], color=['royalblue','darkorange'])\n",
    "ax.set_ylabel('Runtime (seconds)', fontsize=16)\n",
    "ax.tick_params(axis='x',labelsize=14)\n",
    "ax.set_xticklabels(['Not Persisted','Persisted'])\n",
    "ax.set_title('RDD Cache Status vs Runtime', fontsize=18)"
   ]
  },
  {
   "cell_type": "code",
   "execution_count": 21,
   "metadata": {},
   "outputs": [
    {
     "data": {
      "text/plain": [
       "k\n",
       "2     13.15025\n",
       "4     13.05125\n",
       "5     17.13800\n",
       "6    122.77950\n",
       "Name: runtime, dtype: float64"
      ]
     },
     "execution_count": 21,
     "metadata": {},
     "output_type": "execute_result"
    }
   ],
   "source": [
    "df.groupby('k')['runtime'].mean()"
   ]
  },
  {
   "cell_type": "code",
   "execution_count": 22,
   "metadata": {},
   "outputs": [],
   "source": [
    "rt_by_dist = pd.DataFrame(df.groupby(['dataset','dist_func'])['runtime'].mean())"
   ]
  },
  {
   "cell_type": "code",
   "execution_count": 23,
   "metadata": {
    "scrolled": true
   },
   "outputs": [
    {
     "data": {
      "text/html": [
       "<div>\n",
       "<style scoped>\n",
       "    .dataframe tbody tr th:only-of-type {\n",
       "        vertical-align: middle;\n",
       "    }\n",
       "\n",
       "    .dataframe tbody tr th {\n",
       "        vertical-align: top;\n",
       "    }\n",
       "\n",
       "    .dataframe thead th {\n",
       "        text-align: right;\n",
       "    }\n",
       "</style>\n",
       "<table border=\"1\" class=\"dataframe\">\n",
       "  <thead>\n",
       "    <tr style=\"text-align: right;\">\n",
       "      <th></th>\n",
       "      <th>runtime</th>\n",
       "    </tr>\n",
       "    <tr>\n",
       "      <th>dataset</th>\n",
       "      <th></th>\n",
       "    </tr>\n",
       "  </thead>\n",
       "  <tbody>\n",
       "    <tr>\n",
       "      <th>dbpedia</th>\n",
       "      <td>274.32800</td>\n",
       "    </tr>\n",
       "    <tr>\n",
       "      <th>dbpedia_sample</th>\n",
       "      <td>87.37250</td>\n",
       "    </tr>\n",
       "    <tr>\n",
       "      <th>mobilenet</th>\n",
       "      <td>18.95200</td>\n",
       "    </tr>\n",
       "    <tr>\n",
       "      <th>synthetic</th>\n",
       "      <td>13.30125</td>\n",
       "    </tr>\n",
       "  </tbody>\n",
       "</table>\n",
       "</div>"
      ],
      "text/plain": [
       "                  runtime\n",
       "dataset                  \n",
       "dbpedia         274.32800\n",
       "dbpedia_sample   87.37250\n",
       "mobilenet        18.95200\n",
       "synthetic        13.30125"
      ]
     },
     "execution_count": 23,
     "metadata": {},
     "output_type": "execute_result"
    }
   ],
   "source": [
    "rt_by_dist.xs('circle', level=1)"
   ]
  },
  {
   "cell_type": "code",
   "execution_count": 24,
   "metadata": {},
   "outputs": [
    {
     "data": {
      "text/plain": [
       "[274.328, 87.3725, 18.951999999999998, 13.301250000000001]"
      ]
     },
     "execution_count": 24,
     "metadata": {},
     "output_type": "execute_result"
    }
   ],
   "source": [
    "[i[0] for i in rt_by_dist.xs('circle', level=1).values]"
   ]
  },
  {
   "cell_type": "code",
   "execution_count": 25,
   "metadata": {},
   "outputs": [
    {
     "data": {
      "text/html": [
       "<div>\n",
       "<style scoped>\n",
       "    .dataframe tbody tr th:only-of-type {\n",
       "        vertical-align: middle;\n",
       "    }\n",
       "\n",
       "    .dataframe tbody tr th {\n",
       "        vertical-align: top;\n",
       "    }\n",
       "\n",
       "    .dataframe thead th {\n",
       "        text-align: right;\n",
       "    }\n",
       "</style>\n",
       "<table border=\"1\" class=\"dataframe\">\n",
       "  <thead>\n",
       "    <tr style=\"text-align: right;\">\n",
       "      <th></th>\n",
       "      <th></th>\n",
       "      <th>runtime</th>\n",
       "    </tr>\n",
       "    <tr>\n",
       "      <th>dataset</th>\n",
       "      <th>dist_func</th>\n",
       "      <th></th>\n",
       "    </tr>\n",
       "  </thead>\n",
       "  <tbody>\n",
       "    <tr>\n",
       "      <th>dbpedia</th>\n",
       "      <th>circle</th>\n",
       "      <td>274.32800</td>\n",
       "    </tr>\n",
       "    <tr>\n",
       "      <th>dbpedia_sample</th>\n",
       "      <th>circle</th>\n",
       "      <td>87.37250</td>\n",
       "    </tr>\n",
       "    <tr>\n",
       "      <th>mobilenet</th>\n",
       "      <th>circle</th>\n",
       "      <td>18.95200</td>\n",
       "    </tr>\n",
       "    <tr>\n",
       "      <th>synthetic</th>\n",
       "      <th>circle</th>\n",
       "      <td>13.30125</td>\n",
       "    </tr>\n",
       "  </tbody>\n",
       "</table>\n",
       "</div>"
      ],
      "text/plain": [
       "                            runtime\n",
       "dataset        dist_func           \n",
       "dbpedia        circle     274.32800\n",
       "dbpedia_sample circle      87.37250\n",
       "mobilenet      circle      18.95200\n",
       "synthetic      circle      13.30125"
      ]
     },
     "execution_count": 25,
     "metadata": {},
     "output_type": "execute_result"
    }
   ],
   "source": [
    "rt_by_dist.loc[(slice(None), 'circle'), :]"
   ]
  },
  {
   "cell_type": "code",
   "execution_count": 26,
   "metadata": {},
   "outputs": [
    {
     "data": {
      "text/plain": [
       "'circle'"
      ]
     },
     "execution_count": 26,
     "metadata": {},
     "output_type": "execute_result"
    }
   ],
   "source": [
    "rt_by_dist.index.levels[1].values[0]"
   ]
  },
  {
   "cell_type": "code",
   "execution_count": 27,
   "metadata": {
    "scrolled": true
   },
   "outputs": [
    {
     "data": {
      "image/png": "[encoded data removed]",
      "text/plain": [
       "<Figure size 432x288 with 1 Axes>"
      ]
     },
     "metadata": {
      "needs_background": "light"
     },
     "output_type": "display_data"
    }
   ],
   "source": [
    "labels = rt_by_dist.index.levels[0].values\n",
    "circle = [i[0] for i in rt_by_dist.xs('circle', level=1).values]\n",
    "euclid = [i[0] for i in rt_by_dist.xs('euclid', level=1).values]\n",
    "\n",
    "x = np.arange(len(labels))  # the label locations\n",
    "width = 0.35  # the width of the bars\n",
    "\n",
    "fig, ax = plt.subplots()\n",
    "rects1 = ax.bar(x - width/2, circle, width, label=rt_by_dist.index.levels[1].values[0])\n",
    "rects2 = ax.bar(x + width/2, euclid, width, label=rt_by_dist.index.levels[1].values[1])\n",
    "\n",
    "# Add some text for labels, title and custom x-axis tick labels, etc.\n",
    "ax.set_ylabel('Runtime (s)')\n",
    "ax.set_title('Runtimes by Dataset and Distance Function')\n",
    "ax.set_xticks(x)\n",
    "ax.set_xticklabels(labels)\n",
    "ax.legend()\n",
    "\n",
    "plt.show()"
   ]
  },
  {
   "cell_type": "code",
   "execution_count": null,
   "metadata": {},
   "outputs": [],
   "source": []
  },
  {
   "cell_type": "code",
   "execution_count": 28,
   "metadata": {},
   "outputs": [],
   "source": [
    "rt_by_pers = pd.DataFrame(df.groupby(['dataset','persistent'])['runtime'].mean())"
   ]
  },
  {
   "cell_type": "code",
   "execution_count": 29,
   "metadata": {},
   "outputs": [
    {
     "data": {
      "text/html": [
       "<div>\n",
       "<style scoped>\n",
       "    .dataframe tbody tr th:only-of-type {\n",
       "        vertical-align: middle;\n",
       "    }\n",
       "\n",
       "    .dataframe tbody tr th {\n",
       "        vertical-align: top;\n",
       "    }\n",
       "\n",
       "    .dataframe thead th {\n",
       "        text-align: right;\n",
       "    }\n",
       "</style>\n",
       "<table border=\"1\" class=\"dataframe\">\n",
       "  <thead>\n",
       "    <tr style=\"text-align: right;\">\n",
       "      <th></th>\n",
       "      <th></th>\n",
       "      <th>runtime</th>\n",
       "    </tr>\n",
       "    <tr>\n",
       "      <th>dataset</th>\n",
       "      <th>persistent</th>\n",
       "      <th></th>\n",
       "    </tr>\n",
       "  </thead>\n",
       "  <tbody>\n",
       "    <tr>\n",
       "      <th rowspan=\"2\" valign=\"top\">dbpedia</th>\n",
       "      <th>False</th>\n",
       "      <td>286.86400</td>\n",
       "    </tr>\n",
       "    <tr>\n",
       "      <th>True</th>\n",
       "      <td>76.24950</td>\n",
       "    </tr>\n",
       "    <tr>\n",
       "      <th rowspan=\"2\" valign=\"top\">dbpedia_sample</th>\n",
       "      <th>False</th>\n",
       "      <td>58.41800</td>\n",
       "    </tr>\n",
       "    <tr>\n",
       "      <th>True</th>\n",
       "      <td>69.58650</td>\n",
       "    </tr>\n",
       "    <tr>\n",
       "      <th rowspan=\"2\" valign=\"top\">mobilenet</th>\n",
       "      <th>False</th>\n",
       "      <td>18.92150</td>\n",
       "    </tr>\n",
       "    <tr>\n",
       "      <th>True</th>\n",
       "      <td>15.35450</td>\n",
       "    </tr>\n",
       "    <tr>\n",
       "      <th rowspan=\"2\" valign=\"top\">synthetic</th>\n",
       "      <th>False</th>\n",
       "      <td>14.47925</td>\n",
       "    </tr>\n",
       "    <tr>\n",
       "      <th>True</th>\n",
       "      <td>11.72225</td>\n",
       "    </tr>\n",
       "  </tbody>\n",
       "</table>\n",
       "</div>"
      ],
      "text/plain": [
       "                             runtime\n",
       "dataset        persistent           \n",
       "dbpedia        False       286.86400\n",
       "               True         76.24950\n",
       "dbpedia_sample False        58.41800\n",
       "               True         69.58650\n",
       "mobilenet      False        18.92150\n",
       "               True         15.35450\n",
       "synthetic      False        14.47925\n",
       "               True         11.72225"
      ]
     },
     "execution_count": 29,
     "metadata": {},
     "output_type": "execute_result"
    }
   ],
   "source": [
    "rt_by_pers"
   ]
  },
  {
   "cell_type": "code",
   "execution_count": 31,
   "metadata": {},
   "outputs": [
    {
     "data": {
      "image/png": "[encoded data removed]",
      "text/plain": [
       "<Figure size 432x288 with 1 Axes>"
      ]
     },
     "metadata": {
      "needs_background": "light"
     },
     "output_type": "display_data"
    }
   ],
   "source": [
    "to_plot = rt_by_pers\n",
    "\n",
    "labels = to_plot.index.levels[0].values\n",
    "vs = to_plot.index.levels[1].values\n",
    "circle = [i[0] for i in to_plot.xs(vs[0], level=1).values]\n",
    "euclid = [i[0] for i in to_plot.xs(vs[1], level=1).values]\n",
    "\n",
    "x = np.arange(len(labels))  # the label locations\n",
    "width = 0.35  # the width of the bars\n",
    "\n",
    "fig, ax = plt.subplots()\n",
    "rects1 = ax.bar(x - width/2, circle, width, label=to_plot.index.levels[1].values[0])\n",
    "rects2 = ax.bar(x + width/2, euclid, width, label=to_plot.index.levels[1].values[1])\n",
    "\n",
    "# Add some text for labels, title and custom x-axis tick labels, etc.\n",
    "ax.set_ylabel('Runtime (s)')\n",
    "ax.set_title('Runtimes by Dataset and Persistence')\n",
    "ax.set_xticks(x)\n",
    "ax.set_xticklabels(labels)\n",
    "ax.legend()\n",
    "\n",
    "plt.show()"
   ]
  },
  {
   "cell_type": "code",
   "execution_count": null,
   "metadata": {},
   "outputs": [],
   "source": []
  }
 ],
 "metadata": {
  "kernelspec": {
   "display_name": "Python 3",
   "language": "python",
   "name": "python3"
  },
  "language_info": {
   "codemirror_mode": {
    "name": "ipython",
    "version": 3
   },
   "file_extension": ".py",
   "mimetype": "text/x-python",
   "name": "python",
   "nbconvert_exporter": "python",
   "pygments_lexer": "ipython3",
   "version": "3.6.9"
  }
 },
 "nbformat": 4,
 "nbformat_minor": 4
}
